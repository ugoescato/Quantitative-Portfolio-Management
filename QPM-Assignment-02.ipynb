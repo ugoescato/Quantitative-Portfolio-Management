{
 "cells": [
  {
   "cell_type": "markdown",
   "id": "c30b4184",
   "metadata": {},
   "source": [
    "# Section 0\n",
    "- Submission Date : 10/11/2024\n",
    "- QPM 2024-2025: Assignment 2\n",
    "- Members :\n",
    "ESCATO Ugo  \n",
    "HERVE Gauthier  \n",
    "KAEPPELIN Teodor  \n",
    "MEDDEB Malek  \n",
    "CAO Yu\n",
    "- Diversity :\n",
    "1. Academic background : some did prepa, others went to univerisity,\n",
    "2. Nationality : French, Chinese, Tunisian\n",
    "3. Python : some very familiar with Python and machine learning, others not at all"
   ]
  },
  {
   "cell_type": "markdown",
   "id": "cffa87ff",
   "metadata": {},
   "source": [
    "# Section 1\n",
    "\n",
    "## Question 1 of Assignment 2"
   ]
  },
  {
   "cell_type": "markdown",
   "id": "5e27f1a4",
   "metadata": {},
   "source": [
    "### Question 1.1"
   ]
  },
  {
   "cell_type": "code",
   "execution_count": 1,
   "id": "a384c341",
   "metadata": {},
   "outputs": [],
   "source": [
    "import yfinance as yf\n",
    "import pandas as pd\n",
    "import numpy as np\n",
    "from scipy.optimize import minimize\n",
    "import matplotlib.pyplot as plt\n",
    "import warnings\n",
    "warnings.filterwarnings('ignore')"
   ]
  },
  {
   "cell_type": "code",
   "execution_count": 2,
   "id": "65342416",
   "metadata": {},
   "outputs": [
    {
     "data": {
      "text/html": [
       "<div>\n",
       "<style scoped>\n",
       "    .dataframe tbody tr th:only-of-type {\n",
       "        vertical-align: middle;\n",
       "    }\n",
       "\n",
       "    .dataframe tbody tr th {\n",
       "        vertical-align: top;\n",
       "    }\n",
       "\n",
       "    .dataframe thead th {\n",
       "        text-align: right;\n",
       "    }\n",
       "</style>\n",
       "<table border=\"1\" class=\"dataframe\">\n",
       "  <thead>\n",
       "    <tr style=\"text-align: right;\">\n",
       "      <th></th>\n",
       "      <th>Symbol</th>\n",
       "      <th>Security</th>\n",
       "      <th>GICS Sector</th>\n",
       "      <th>GICS Sub-Industry</th>\n",
       "      <th>Headquarters Location</th>\n",
       "      <th>Date added</th>\n",
       "      <th>CIK</th>\n",
       "      <th>Founded</th>\n",
       "    </tr>\n",
       "  </thead>\n",
       "  <tbody>\n",
       "    <tr>\n",
       "      <th>0</th>\n",
       "      <td>MMM</td>\n",
       "      <td>3M</td>\n",
       "      <td>Industrials</td>\n",
       "      <td>Industrial Conglomerates</td>\n",
       "      <td>Saint Paul, Minnesota</td>\n",
       "      <td>1957-03-04</td>\n",
       "      <td>66740</td>\n",
       "      <td>1902</td>\n",
       "    </tr>\n",
       "    <tr>\n",
       "      <th>1</th>\n",
       "      <td>AOS</td>\n",
       "      <td>A. O. Smith</td>\n",
       "      <td>Industrials</td>\n",
       "      <td>Building Products</td>\n",
       "      <td>Milwaukee, Wisconsin</td>\n",
       "      <td>2017-07-26</td>\n",
       "      <td>91142</td>\n",
       "      <td>1916</td>\n",
       "    </tr>\n",
       "    <tr>\n",
       "      <th>2</th>\n",
       "      <td>ABT</td>\n",
       "      <td>Abbott Laboratories</td>\n",
       "      <td>Health Care</td>\n",
       "      <td>Health Care Equipment</td>\n",
       "      <td>North Chicago, Illinois</td>\n",
       "      <td>1957-03-04</td>\n",
       "      <td>1800</td>\n",
       "      <td>1888</td>\n",
       "    </tr>\n",
       "    <tr>\n",
       "      <th>3</th>\n",
       "      <td>ABBV</td>\n",
       "      <td>AbbVie</td>\n",
       "      <td>Health Care</td>\n",
       "      <td>Biotechnology</td>\n",
       "      <td>North Chicago, Illinois</td>\n",
       "      <td>2012-12-31</td>\n",
       "      <td>1551152</td>\n",
       "      <td>2013 (1888)</td>\n",
       "    </tr>\n",
       "    <tr>\n",
       "      <th>4</th>\n",
       "      <td>ACN</td>\n",
       "      <td>Accenture</td>\n",
       "      <td>Information Technology</td>\n",
       "      <td>IT Consulting &amp; Other Services</td>\n",
       "      <td>Dublin, Ireland</td>\n",
       "      <td>2011-07-06</td>\n",
       "      <td>1467373</td>\n",
       "      <td>1989</td>\n",
       "    </tr>\n",
       "    <tr>\n",
       "      <th>...</th>\n",
       "      <td>...</td>\n",
       "      <td>...</td>\n",
       "      <td>...</td>\n",
       "      <td>...</td>\n",
       "      <td>...</td>\n",
       "      <td>...</td>\n",
       "      <td>...</td>\n",
       "      <td>...</td>\n",
       "    </tr>\n",
       "    <tr>\n",
       "      <th>498</th>\n",
       "      <td>XYL</td>\n",
       "      <td>Xylem Inc.</td>\n",
       "      <td>Industrials</td>\n",
       "      <td>Industrial Machinery &amp; Supplies &amp; Components</td>\n",
       "      <td>White Plains, New York</td>\n",
       "      <td>2011-11-01</td>\n",
       "      <td>1524472</td>\n",
       "      <td>2011</td>\n",
       "    </tr>\n",
       "    <tr>\n",
       "      <th>499</th>\n",
       "      <td>YUM</td>\n",
       "      <td>Yum! Brands</td>\n",
       "      <td>Consumer Discretionary</td>\n",
       "      <td>Restaurants</td>\n",
       "      <td>Louisville, Kentucky</td>\n",
       "      <td>1997-10-06</td>\n",
       "      <td>1041061</td>\n",
       "      <td>1997</td>\n",
       "    </tr>\n",
       "    <tr>\n",
       "      <th>500</th>\n",
       "      <td>ZBRA</td>\n",
       "      <td>Zebra Technologies</td>\n",
       "      <td>Information Technology</td>\n",
       "      <td>Electronic Equipment &amp; Instruments</td>\n",
       "      <td>Lincolnshire, Illinois</td>\n",
       "      <td>2019-12-23</td>\n",
       "      <td>877212</td>\n",
       "      <td>1969</td>\n",
       "    </tr>\n",
       "    <tr>\n",
       "      <th>501</th>\n",
       "      <td>ZBH</td>\n",
       "      <td>Zimmer Biomet</td>\n",
       "      <td>Health Care</td>\n",
       "      <td>Health Care Equipment</td>\n",
       "      <td>Warsaw, Indiana</td>\n",
       "      <td>2001-08-07</td>\n",
       "      <td>1136869</td>\n",
       "      <td>1927</td>\n",
       "    </tr>\n",
       "    <tr>\n",
       "      <th>502</th>\n",
       "      <td>ZTS</td>\n",
       "      <td>Zoetis</td>\n",
       "      <td>Health Care</td>\n",
       "      <td>Pharmaceuticals</td>\n",
       "      <td>Parsippany, New Jersey</td>\n",
       "      <td>2013-06-21</td>\n",
       "      <td>1555280</td>\n",
       "      <td>1952</td>\n",
       "    </tr>\n",
       "  </tbody>\n",
       "</table>\n",
       "<p>503 rows × 8 columns</p>\n",
       "</div>"
      ],
      "text/plain": [
       "    Symbol             Security             GICS Sector  \\\n",
       "0      MMM                   3M             Industrials   \n",
       "1      AOS          A. O. Smith             Industrials   \n",
       "2      ABT  Abbott Laboratories             Health Care   \n",
       "3     ABBV               AbbVie             Health Care   \n",
       "4      ACN            Accenture  Information Technology   \n",
       "..     ...                  ...                     ...   \n",
       "498    XYL           Xylem Inc.             Industrials   \n",
       "499    YUM          Yum! Brands  Consumer Discretionary   \n",
       "500   ZBRA   Zebra Technologies  Information Technology   \n",
       "501    ZBH        Zimmer Biomet             Health Care   \n",
       "502    ZTS               Zoetis             Health Care   \n",
       "\n",
       "                                GICS Sub-Industry    Headquarters Location  \\\n",
       "0                        Industrial Conglomerates    Saint Paul, Minnesota   \n",
       "1                               Building Products     Milwaukee, Wisconsin   \n",
       "2                           Health Care Equipment  North Chicago, Illinois   \n",
       "3                                   Biotechnology  North Chicago, Illinois   \n",
       "4                  IT Consulting & Other Services          Dublin, Ireland   \n",
       "..                                            ...                      ...   \n",
       "498  Industrial Machinery & Supplies & Components   White Plains, New York   \n",
       "499                                   Restaurants     Louisville, Kentucky   \n",
       "500            Electronic Equipment & Instruments   Lincolnshire, Illinois   \n",
       "501                         Health Care Equipment          Warsaw, Indiana   \n",
       "502                               Pharmaceuticals   Parsippany, New Jersey   \n",
       "\n",
       "     Date added      CIK      Founded  \n",
       "0    1957-03-04    66740         1902  \n",
       "1    2017-07-26    91142         1916  \n",
       "2    1957-03-04     1800         1888  \n",
       "3    2012-12-31  1551152  2013 (1888)  \n",
       "4    2011-07-06  1467373         1989  \n",
       "..          ...      ...          ...  \n",
       "498  2011-11-01  1524472         2011  \n",
       "499  1997-10-06  1041061         1997  \n",
       "500  2019-12-23   877212         1969  \n",
       "501  2001-08-07  1136869         1927  \n",
       "502  2013-06-21  1555280         1952  \n",
       "\n",
       "[503 rows x 8 columns]"
      ]
     },
     "execution_count": 2,
     "metadata": {},
     "output_type": "execute_result"
    }
   ],
   "source": [
    "# Downloading S&P 500 table \n",
    "url = \"https://en.wikipedia.org/wiki/List_of_S%26P_500_companies\"\n",
    "tables = pd.read_html(url)\n",
    "SP500_table = tables[0]\n",
    "SP500_table"
   ]
  },
  {
   "cell_type": "code",
   "execution_count": 3,
   "id": "bb54e00e",
   "metadata": {},
   "outputs": [],
   "source": [
    "# Tickers and date range\n",
    "tickers = [\"MMM\",\"AOS\",\"ABT\",\"ADM\",\"ADBE\",\"ADP\",\"AES\",\"AFL\",\"A\",\"AKAM\"]\n",
    "start_date = \"2000-01-01\"\n",
    "end_date = \"2022-12-31\""
   ]
  },
  {
   "cell_type": "code",
   "execution_count": 4,
   "id": "95aaa15f",
   "metadata": {},
   "outputs": [
    {
     "name": "stderr",
     "output_type": "stream",
     "text": [
      "[*********************100%***********************]  10 of 10 completed\n"
     ]
    }
   ],
   "source": [
    "# Download data and process price data\n",
    "dataset = yf.download(tickers, start=start_date, end=end_date)\n",
    "dataset_prices = dataset['Adj Close']"
   ]
  },
  {
   "cell_type": "code",
   "execution_count": 5,
   "id": "9cd77247",
   "metadata": {},
   "outputs": [
    {
     "data": {
      "text/plain": [
       "Ticker\n",
       "A       0\n",
       "ABT     0\n",
       "ADBE    0\n",
       "ADM     0\n",
       "ADP     0\n",
       "AES     0\n",
       "AFL     0\n",
       "AKAM    0\n",
       "AOS     0\n",
       "MMM     0\n",
       "dtype: int64"
      ]
     },
     "execution_count": 5,
     "metadata": {},
     "output_type": "execute_result"
    }
   ],
   "source": [
    "dataset_prices.isnull().sum()"
   ]
  },
  {
   "cell_type": "code",
   "execution_count": 6,
   "id": "221a524c",
   "metadata": {},
   "outputs": [],
   "source": [
    "# Convert to monthly frequency and compute returns\n",
    "monthly_prices = dataset_prices.resample('M').last()\n",
    "monthly_returns = monthly_prices.pct_change().dropna()"
   ]
  },
  {
   "cell_type": "code",
   "execution_count": 7,
   "id": "fc2ab7da",
   "metadata": {},
   "outputs": [
    {
     "data": {
      "text/html": [
       "<div>\n",
       "<style scoped>\n",
       "    .dataframe tbody tr th:only-of-type {\n",
       "        vertical-align: middle;\n",
       "    }\n",
       "\n",
       "    .dataframe tbody tr th {\n",
       "        vertical-align: top;\n",
       "    }\n",
       "\n",
       "    .dataframe thead th {\n",
       "        text-align: right;\n",
       "    }\n",
       "</style>\n",
       "<table border=\"1\" class=\"dataframe\">\n",
       "  <thead>\n",
       "    <tr style=\"text-align: right;\">\n",
       "      <th>Ticker</th>\n",
       "      <th>A</th>\n",
       "      <th>ABT</th>\n",
       "      <th>ADBE</th>\n",
       "      <th>ADM</th>\n",
       "      <th>ADP</th>\n",
       "      <th>AES</th>\n",
       "      <th>AFL</th>\n",
       "      <th>AKAM</th>\n",
       "      <th>AOS</th>\n",
       "      <th>MMM</th>\n",
       "    </tr>\n",
       "    <tr>\n",
       "      <th>Date</th>\n",
       "      <th></th>\n",
       "      <th></th>\n",
       "      <th></th>\n",
       "      <th></th>\n",
       "      <th></th>\n",
       "      <th></th>\n",
       "      <th></th>\n",
       "      <th></th>\n",
       "      <th></th>\n",
       "      <th></th>\n",
       "    </tr>\n",
       "  </thead>\n",
       "  <tbody>\n",
       "    <tr>\n",
       "      <th>2000-02-29 00:00:00+00:00</th>\n",
       "      <td>0.569405</td>\n",
       "      <td>0.013436</td>\n",
       "      <td>0.852441</td>\n",
       "      <td>-0.140034</td>\n",
       "      <td>-0.081686</td>\n",
       "      <td>0.046022</td>\n",
       "      <td>-0.156654</td>\n",
       "      <td>0.048670</td>\n",
       "      <td>-0.126583</td>\n",
       "      <td>-0.051976</td>\n",
       "    </tr>\n",
       "    <tr>\n",
       "      <th>2000-03-31 00:00:00+00:00</th>\n",
       "      <td>0.001203</td>\n",
       "      <td>0.066288</td>\n",
       "      <td>0.091567</td>\n",
       "      <td>0.024845</td>\n",
       "      <td>0.109850</td>\n",
       "      <td>-0.060402</td>\n",
       "      <td>0.246154</td>\n",
       "      <td>-0.384450</td>\n",
       "      <td>0.043478</td>\n",
       "      <td>0.004252</td>\n",
       "    </tr>\n",
       "    <tr>\n",
       "      <th>2000-04-30 00:00:00+00:00</th>\n",
       "      <td>-0.147837</td>\n",
       "      <td>0.097843</td>\n",
       "      <td>0.086468</td>\n",
       "      <td>-0.036364</td>\n",
       "      <td>0.115285</td>\n",
       "      <td>0.142063</td>\n",
       "      <td>0.071331</td>\n",
       "      <td>-0.385154</td>\n",
       "      <td>0.149574</td>\n",
       "      <td>-0.021877</td>\n",
       "    </tr>\n",
       "    <tr>\n",
       "      <th>2000-05-31 00:00:00+00:00</th>\n",
       "      <td>-0.169252</td>\n",
       "      <td>0.058536</td>\n",
       "      <td>-0.069251</td>\n",
       "      <td>0.207111</td>\n",
       "      <td>0.022067</td>\n",
       "      <td>-0.029882</td>\n",
       "      <td>0.060746</td>\n",
       "      <td>-0.324905</td>\n",
       "      <td>0.021277</td>\n",
       "      <td>-0.003685</td>\n",
       "    </tr>\n",
       "    <tr>\n",
       "      <th>2000-06-30 00:00:00+00:00</th>\n",
       "      <td>0.001698</td>\n",
       "      <td>0.095238</td>\n",
       "      <td>0.155146</td>\n",
       "      <td>-0.178011</td>\n",
       "      <td>-0.024648</td>\n",
       "      <td>0.045845</td>\n",
       "      <td>-0.111246</td>\n",
       "      <td>0.778792</td>\n",
       "      <td>-0.003721</td>\n",
       "      <td>-0.032070</td>\n",
       "    </tr>\n",
       "  </tbody>\n",
       "</table>\n",
       "</div>"
      ],
      "text/plain": [
       "Ticker                            A       ABT      ADBE       ADM       ADP  \\\n",
       "Date                                                                          \n",
       "2000-02-29 00:00:00+00:00  0.569405  0.013436  0.852441 -0.140034 -0.081686   \n",
       "2000-03-31 00:00:00+00:00  0.001203  0.066288  0.091567  0.024845  0.109850   \n",
       "2000-04-30 00:00:00+00:00 -0.147837  0.097843  0.086468 -0.036364  0.115285   \n",
       "2000-05-31 00:00:00+00:00 -0.169252  0.058536 -0.069251  0.207111  0.022067   \n",
       "2000-06-30 00:00:00+00:00  0.001698  0.095238  0.155146 -0.178011 -0.024648   \n",
       "\n",
       "Ticker                          AES       AFL      AKAM       AOS       MMM  \n",
       "Date                                                                         \n",
       "2000-02-29 00:00:00+00:00  0.046022 -0.156654  0.048670 -0.126583 -0.051976  \n",
       "2000-03-31 00:00:00+00:00 -0.060402  0.246154 -0.384450  0.043478  0.004252  \n",
       "2000-04-30 00:00:00+00:00  0.142063  0.071331 -0.385154  0.149574 -0.021877  \n",
       "2000-05-31 00:00:00+00:00 -0.029882  0.060746 -0.324905  0.021277 -0.003685  \n",
       "2000-06-30 00:00:00+00:00  0.045845 -0.111246  0.778792 -0.003721 -0.032070  "
      ]
     },
     "execution_count": 7,
     "metadata": {},
     "output_type": "execute_result"
    }
   ],
   "source": [
    "monthly_returns.head()"
   ]
  },
  {
   "cell_type": "code",
   "execution_count": 8,
   "id": "c845f9e7",
   "metadata": {},
   "outputs": [],
   "source": [
    "# Assume risk-free rate (rf) is 0\n",
    "rf = 0"
   ]
  },
  {
   "cell_type": "code",
   "execution_count": 9,
   "id": "6a633257",
   "metadata": {},
   "outputs": [],
   "source": [
    "# Assume gamma is 5\n",
    "gamma = 5"
   ]
  },
  {
   "cell_type": "markdown",
   "id": "43818e97",
   "metadata": {},
   "source": [
    "### Question 1.2"
   ]
  },
  {
   "cell_type": "markdown",
   "id": "88381c19",
   "metadata": {},
   "source": [
    "### a)"
   ]
  },
  {
   "cell_type": "code",
   "execution_count": 10,
   "id": "e2a618e3",
   "metadata": {},
   "outputs": [],
   "source": [
    "t_est = 60\n",
    "nb_months = len(monthly_returns)\n",
    "estimation_sample = monthly_returns.head(t_est)"
   ]
  },
  {
   "cell_type": "code",
   "execution_count": 1,
   "id": "ec2cae19",
   "metadata": {},
   "outputs": [
    {
     "ename": "NameError",
     "evalue": "name 'estimation_sample' is not defined",
     "output_type": "error",
     "traceback": [
      "\u001b[1;31m---------------------------------------------------------------------------\u001b[0m",
      "\u001b[1;31mNameError\u001b[0m                                 Traceback (most recent call last)",
      "\u001b[1;32m~\\AppData\\Local\\Temp\\ipykernel_21740\\1988313575.py\u001b[0m in \u001b[0;36m<module>\u001b[1;34m\u001b[0m\n\u001b[1;32m----> 1\u001b[1;33m \u001b[0mmean_returns\u001b[0m \u001b[1;33m=\u001b[0m \u001b[0mestimation_sample\u001b[0m\u001b[1;33m.\u001b[0m\u001b[0mmean\u001b[0m\u001b[1;33m(\u001b[0m\u001b[1;33m)\u001b[0m\u001b[1;33m\u001b[0m\u001b[1;33m\u001b[0m\u001b[0m\n\u001b[0m\u001b[0;32m      2\u001b[0m \u001b[0mcov_matrix\u001b[0m \u001b[1;33m=\u001b[0m \u001b[0mestimation_sample\u001b[0m\u001b[1;33m.\u001b[0m\u001b[0mcov\u001b[0m\u001b[1;33m(\u001b[0m\u001b[1;33m)\u001b[0m\u001b[1;33m\u001b[0m\u001b[1;33m\u001b[0m\u001b[0m\n",
      "\u001b[1;31mNameError\u001b[0m: name 'estimation_sample' is not defined"
     ]
    }
   ],
   "source": [
    "mean_returns = estimation_sample.mean()\n",
    "cov_matrix = estimation_sample.cov()"
   ]
  },
  {
   "cell_type": "code",
   "execution_count": 12,
   "id": "84497e95",
   "metadata": {},
   "outputs": [],
   "source": [
    "def MVP(gamma, rf, V, mu):\n",
    "    \"\"\"\n",
    "    Calculate the weights of the mean-variance portfolio (MVP), \n",
    "    the weight in the risk-free asset, and the weights of the tangency portfolio.\n",
    "\n",
    "    Parameters:\n",
    "    - gamma (float): Investor's risk aversion parameter\n",
    "    - rf (float): Gross risk-free rate\n",
    "    - V (ndarray): Variance-covariance matrix of returns\n",
    "    - mu (ndarray): Column vector of gross mean returns\n",
    "\n",
    "    Returns:\n",
    "    - w_mvp (ndarray): Weights of the mean-variance portfolio (MVP)\n",
    "    - w_riskFree (float): Weight in the risk-free asset\n",
    "    - w_tangency (ndarray): Weights of the tangency portfolio\n",
    "    \"\"\"\n",
    "    # Ensure mu is a numpy array with appropriate shape\n",
    "    mu = np.array(mu).reshape(-1, 1)\n",
    "    \n",
    "    # Column vector of ones\n",
    "    ones = np.ones((mu.shape[0], 1))\n",
    "    \n",
    "    # Inverse of the variance-covariance matrix\n",
    "    Vinverse = np.linalg.inv(V)\n",
    "    \n",
    "    # Weights for the mean-variance portfolio (MVP)\n",
    "    w_mvp = (1 / gamma) * Vinverse @ (mu - rf * ones)\n",
    "    \n",
    "    # Weight in the risk-free asset\n",
    "    w_riskFree = 1 - ones.T @ w_mvp\n",
    "    \n",
    "    # Weights of the tangency portfolio\n",
    "    w_tangency = w_mvp / (ones.T @ w_mvp)\n",
    "    \n",
    "    return w_mvp, w_riskFree, w_tangency"
   ]
  },
  {
   "cell_type": "code",
   "execution_count": 13,
   "id": "a5998daa",
   "metadata": {},
   "outputs": [
    {
     "name": "stdout",
     "output_type": "stream",
     "text": [
      "\n",
      "MVP Weights: \n",
      "[[-0.17981723]\n",
      " [ 0.2360792 ]\n",
      " [ 0.27047057]\n",
      " [ 0.40332097]\n",
      " [-0.25064097]\n",
      " [ 0.03804252]\n",
      " [ 0.02403408]\n",
      " [-0.00198308]\n",
      " [ 0.15348886]\n",
      " [ 0.30700508]]\n"
     ]
    }
   ],
   "source": [
    "w_mvp, w_riskFree, w_tangency = MVP(gamma, rf, estimation_sample_cov_matrix, estimation_sample_mean_returns)\n",
    "\n",
    "print(\"\\nMVP Weights: \")\n",
    "print(w_tangency)"
   ]
  },
  {
   "cell_type": "markdown",
   "id": "095d1f10",
   "metadata": {},
   "source": [
    "### b)"
   ]
  },
  {
   "cell_type": "code",
   "execution_count": 14,
   "id": "1b39a023",
   "metadata": {},
   "outputs": [],
   "source": [
    "def GMV(V):\n",
    "    \"\"\"\n",
    "    Calculate the weights of the global minimum variance (GMV) portfolio.\n",
    "\n",
    "    Parameters:\n",
    "    - V (ndarray): Variance-covariance matrix of returns\n",
    "\n",
    "    Returns:\n",
    "    - w_gmv (ndarray): Weights of the global minimum variance (GMV) portfolio\n",
    "    \"\"\"\n",
    "    # Column vector of ones\n",
    "    ones = np.ones((V.shape[0], 1))\n",
    "    \n",
    "    # Inverse of the variance-covariance matrix\n",
    "    Vinverse = np.linalg.inv(V)\n",
    "    \n",
    "    # Weights of the global minimum variance (GMV) portfolio\n",
    "    w_gmv = (Vinverse @ ones) / (ones.T @ Vinverse @ ones)\n",
    "    \n",
    "    return w_gmv"
   ]
  },
  {
   "cell_type": "code",
   "execution_count": 15,
   "id": "4c442140",
   "metadata": {},
   "outputs": [
    {
     "name": "stdout",
     "output_type": "stream",
     "text": [
      "\n",
      "GMV Portfolio Weights: \n",
      "[[ 0.0048523 ]\n",
      " [ 0.30442601]\n",
      " [ 0.03010857]\n",
      " [ 0.05513059]\n",
      " [ 0.08595176]\n",
      " [ 0.02137053]\n",
      " [ 0.07924228]\n",
      " [-0.02227754]\n",
      " [ 0.1043002 ]\n",
      " [ 0.33689531]]\n"
     ]
    }
   ],
   "source": [
    "w_gmv = GMV(estimation_sample_cov_matrix)\n",
    "\n",
    "print(\"\\nGMV Portfolio Weights: \")\n",
    "print(w_gmv)"
   ]
  },
  {
   "cell_type": "markdown",
   "id": "755eef56",
   "metadata": {},
   "source": [
    "### Question 1.3"
   ]
  },
  {
   "cell_type": "code",
   "execution_count": 16,
   "id": "24a67ab5",
   "metadata": {},
   "outputs": [],
   "source": [
    "mvp_weights = []\n",
    "gmv_weights = []\n",
    "\n",
    "for i in range(t_est, nb_months):\n",
    "    # Define the rolling window estimation sample\n",
    "    estimation_sample_rolling = monthly_returns.iloc[i - t_est:i]\n",
    "    \n",
    "    # Calculate mean returns and covariance matrix for the rolling window\n",
    "    estimation_sample_rolling_mean_returns = estimation_sample_rolling.mean()\n",
    "    estimation_sample_rolling_cov_matrix = estimation_sample_rolling.cov()\n",
    "    \n",
    "    # Get the MVP weights \n",
    "    mvp_weight = MVP(5, rf, estimation_sample_rolling_cov_matrix, estimation_sample_rolling_mean_returns)[2].flatten()\n",
    "    \n",
    "    # Get the GMV weights and flatten them \n",
    "    gmv_weight = GMV(estimation_sample_rolling_cov_matrix)\n",
    "    gmv_weight_flat = gmv_weight.flatten()  # Flatten to ensure it's 1D\n",
    "    \n",
    "    # Append the weights to the respective lists\n",
    "    mvp_weights.append(mvp_weight)\n",
    "    gmv_weights.append(gmv_weight_flat)\n",
    "\n",
    "# Create DataFrames with the weights and dates\n",
    "dates = monthly_returns.index[t_est:]\n",
    "mvp_weights_df = pd.DataFrame(mvp_weights, index=dates, columns=estimation_sample.columns)\n",
    "gmv_weights_df = pd.DataFrame(gmv_weights, index=dates, columns=estimation_sample.columns)"
   ]
  },
  {
   "cell_type": "code",
   "execution_count": 17,
   "id": "4f089dae",
   "metadata": {},
   "outputs": [
    {
     "name": "stdout",
     "output_type": "stream",
     "text": [
      "MVP Weights (based on 60 Months Rolling Window):\n",
      "Ticker                            A       ABT      ADBE       ADM       ADP  \\\n",
      "Date                                                                          \n",
      "2005-02-28 00:00:00+00:00 -0.179817  0.236079  0.270471  0.403321 -0.250641   \n",
      "2005-03-31 00:00:00+00:00 -0.181398  0.227714  0.162405  0.351974 -0.162817   \n",
      "2005-04-30 00:00:00+00:00 -0.234816  0.217776  0.205942  0.412998 -0.195132   \n",
      "2005-05-31 00:00:00+00:00 -0.189431  0.302908  0.119813  0.259169 -0.217460   \n",
      "2005-06-30 00:00:00+00:00 -0.179272  0.276223  0.138794  0.269250 -0.247066   \n",
      "\n",
      "Ticker                          AES       AFL      AKAM       AOS       MMM  \n",
      "Date                                                                         \n",
      "2005-02-28 00:00:00+00:00  0.038043  0.024034 -0.001983  0.153489  0.307005  \n",
      "2005-03-31 00:00:00+00:00  0.043949  0.069104  0.003500  0.158996  0.326572  \n",
      "2005-04-30 00:00:00+00:00  0.053827 -0.067533  0.016559  0.184817  0.405561  \n",
      "2005-05-31 00:00:00+00:00  0.048162  0.112798  0.024065  0.169686  0.370290  \n",
      "2005-06-30 00:00:00+00:00  0.039235  0.118078  0.031262  0.182883  0.370613  \n",
      "\n",
      "GMV Weights (based on 60 Months Rolling Window):\n",
      "Ticker                            A       ABT      ADBE       ADM       ADP  \\\n",
      "Date                                                                          \n",
      "2005-02-28 00:00:00+00:00  0.004852  0.304426  0.030109  0.055131  0.085952   \n",
      "2005-03-31 00:00:00+00:00 -0.009318  0.287954 -0.011087  0.043530  0.125355   \n",
      "2005-04-30 00:00:00+00:00  0.000226  0.283742 -0.019051  0.027027  0.141704   \n",
      "2005-05-31 00:00:00+00:00 -0.010017  0.291901 -0.018809 -0.005094  0.183105   \n",
      "2005-06-30 00:00:00+00:00 -0.013872  0.291446 -0.016566  0.012740  0.181706   \n",
      "\n",
      "Ticker                          AES       AFL      AKAM       AOS       MMM  \n",
      "Date                                                                         \n",
      "2005-02-28 00:00:00+00:00  0.021371  0.079242 -0.022278  0.104300  0.336895  \n",
      "2005-03-31 00:00:00+00:00  0.018376  0.105576 -0.014703  0.114335  0.339981  \n",
      "2005-04-30 00:00:00+00:00  0.012420  0.160141 -0.018260  0.111240  0.300812  \n",
      "2005-05-31 00:00:00+00:00  0.012640  0.170285 -0.023167  0.128247  0.270908  \n",
      "2005-06-30 00:00:00+00:00  0.011912  0.173710 -0.023932  0.128797  0.254060  \n"
     ]
    }
   ],
   "source": [
    "print(\"MVP Weights (based on 60 Months Rolling Window):\")\n",
    "print(mvp_weights_df.head())\n",
    "print(\"\\nGMV Weights (based on 60 Months Rolling Window):\")\n",
    "print(gmv_weights_df.head())"
   ]
  },
  {
   "cell_type": "markdown",
   "id": "e46f8215",
   "metadata": {},
   "source": [
    "### Question 1.4"
   ]
  },
  {
   "cell_type": "code",
   "execution_count": 18,
   "id": "13c552a8",
   "metadata": {},
   "outputs": [],
   "source": [
    "mvp_returns = []\n",
    "gmv_returns = []\n",
    "\n",
    "for t in range(0, len(mvp_weights_df)):\n",
    "    next_month_returns = monthly_returns.iloc[t + t_est]\n",
    "    mvp_return = np.dot(mvp_weights_df.iloc[t], next_month_returns)\n",
    "    gmv_return = np.dot(gmv_weights_df.iloc[t], next_month_returns)\n",
    "    mvp_returns.append(mvp_return)\n",
    "    gmv_returns.append(gmv_return)\n",
    "\n",
    "# Adjust out-of-sample dates to align with the returns computation\n",
    "out_of_sample_dates = monthly_returns.index[t_est:]\n",
    "mvp_returns_df = pd.DataFrame(mvp_returns, index=out_of_sample_dates, columns=['MVP_Return'])\n",
    "gmv_returns_df = pd.DataFrame(gmv_returns, index=out_of_sample_dates, columns=['GMV_Return'])"
   ]
  },
  {
   "cell_type": "code",
   "execution_count": 19,
   "id": "642ed706",
   "metadata": {},
   "outputs": [
    {
     "name": "stdout",
     "output_type": "stream",
     "text": [
      "Out-of-Sample Returns for MVP (using the 60 Months Rolling Window Weights):\n",
      "                           MVP_Return\n",
      "Date                                 \n",
      "2005-02-28 00:00:00+00:00    0.017746\n",
      "2005-03-31 00:00:00+00:00    0.050020\n",
      "2005-04-30 00:00:00+00:00   -0.152551\n",
      "2005-05-31 00:00:00+00:00    0.028179\n",
      "2005-06-30 00:00:00+00:00   -0.018200\n",
      "\n",
      "Out-of-Sample Returns for GMV (using the 60 Months Rolling Window Weights):\n",
      "                           GMV_Return\n",
      "Date                                 \n",
      "2005-02-28 00:00:00+00:00    0.010781\n",
      "2005-03-31 00:00:00+00:00    0.023530\n",
      "2005-04-30 00:00:00+00:00   -0.010159\n",
      "2005-05-31 00:00:00+00:00    0.005719\n",
      "2005-06-30 00:00:00+00:00   -0.022051\n"
     ]
    }
   ],
   "source": [
    "print(\"Out-of-Sample Returns for MVP (using the 60 Months Rolling Window Weights):\")\n",
    "print(mvp_returns_df.head())\n",
    "print(\"\\nOut-of-Sample Returns for GMV (using the 60 Months Rolling Window Weights):\")\n",
    "print(gmv_returns_df.head())"
   ]
  },
  {
   "cell_type": "code",
   "execution_count": 20,
   "id": "635eb0f6",
   "metadata": {},
   "outputs": [
    {
     "data": {
      "image/png": "[encoded data removed]",
      "text/plain": [
       "<Figure size 640x480 with 1 Axes>"
      ]
     },
     "metadata": {},
     "output_type": "display_data"
    }
   ],
   "source": [
    "plt.plot(mvp_returns_df.index, mvp_returns_df, label=\"MVP Out-of-Sample Returns\", color=\"blue\")\n",
    "plt.plot(gmv_returns_df.index, gmv_returns_df, label=\"GMV Out-of-Sample Returns\", color=\"green\")\n",
    "\n",
    "plt.title(\"Out-of-Sample Returns for MVP and GMV Portfolios (based on 60 Months Rolling Window Weights)\")\n",
    "plt.xlabel(\"Date\")\n",
    "plt.ylabel(\"Portfolio Return\")\n",
    "plt.legend()\n",
    "plt.grid()\n",
    "plt.show()"
   ]
  },
  {
   "cell_type": "markdown",
   "id": "c22c80bc",
   "metadata": {},
   "source": [
    "### Question 1.5"
   ]
  },
  {
   "cell_type": "code",
   "execution_count": 21,
   "id": "abd71ab7",
   "metadata": {},
   "outputs": [],
   "source": [
    "def sharpe_ratio(returns_df):\n",
    "    avg_monthly_return = returns_df.mean().iloc[0]\n",
    "    std_dev_monthly_return = returns_df.std().iloc[0]\n",
    "    annualized_return = (1 + avg_monthly_return) ** 12 - 1\n",
    "    annualized_volatility = std_dev_monthly_return * np.sqrt(12)\n",
    "    return (annualized_return - rf) / annualized_volatility"
   ]
  },
  {
   "cell_type": "code",
   "execution_count": 22,
   "id": "bf2c106e",
   "metadata": {},
   "outputs": [],
   "source": [
    "mvp_sharpe_ratio = sharpe_ratio(mvp_returns_df)\n",
    "gmv_sharpe_ratio = sharpe_ratio(gmv_returns_df)"
   ]
  },
  {
   "cell_type": "code",
   "execution_count": 23,
   "id": "c31f9c77",
   "metadata": {},
   "outputs": [
    {
     "name": "stdout",
     "output_type": "stream",
     "text": [
      "Sharpe Ratio for MVP: 0.6684141008058265\n",
      "Sharpe Ratio for GMV: 0.8999533326318012\n",
      "GMV has the higher Sharpe ratio.\n"
     ]
    }
   ],
   "source": [
    "print(\"Sharpe Ratio for MVP:\", mvp_sharpe_ratio)\n",
    "print(\"Sharpe Ratio for GMV:\", gmv_sharpe_ratio)\n",
    "\n",
    "if mvp_sharpe_ratio > gmv_sharpe_ratio:\n",
    "    print(\"MVP has the higher Sharpe ratio.\")\n",
    "else:\n",
    "    print(\"GMV has the higher Sharpe ratio.\")"
   ]
  },
  {
   "cell_type": "markdown",
   "id": "ef75c429",
   "metadata": {},
   "source": [
    "# Section 2\n",
    "\n",
    "## Question 2 of Assignment 2"
   ]
  },
  {
   "cell_type": "markdown",
   "id": "461bf280",
   "metadata": {},
   "source": [
    "### Question 2.1"
   ]
  },
  {
   "cell_type": "code",
   "execution_count": 24,
   "id": "19f11a70",
   "metadata": {},
   "outputs": [],
   "source": [
    "def MVP_C(mu, V, rf, gamma):\n",
    "    # Convert mu to an array \n",
    "    mu = np.array(mu)\n",
    "\n",
    "    # Number of assets\n",
    "    n_assets = len(mu)\n",
    "\n",
    "    # Define the objective function to be minimized\n",
    "    def objective(weights):\n",
    "        # Ensure weights are numpy arrays\n",
    "        weights = np.array(weights)\n",
    "        portfolio_return = weights.T @ (mu - rf * np.ones(n_assets))\n",
    "        portfolio_risk = weights.T @ V @ weights\n",
    "        return (gamma / 2) * portfolio_risk - portfolio_return\n",
    "\n",
    "    # Initial guess for weights (equal distribution)\n",
    "    initial_weights = np.ones(n_assets) / n_assets\n",
    "\n",
    "    # Bounds for weights: no short-selling (all weights >= 0)\n",
    "    bounds = tuple((0, None) for _ in range(n_assets))  # no upper bound on weights\n",
    "\n",
    "    # Perform the minimization\n",
    "    result = minimize(objective, initial_weights, method='SLSQP', bounds=bounds)\n",
    "\n",
    "    # Check if the optimization was successful\n",
    "    if result.success:\n",
    "        optimal_weights = result.x\n",
    "    else:\n",
    "        raise ValueError(\"Optimization failed\")\n",
    "\n",
    "    # Weights in the risk-free asset (total weight should sum to 1)\n",
    "    w_riskFree = 1 - np.sum(optimal_weights)\n",
    "\n",
    "    # Tangency portfolio weights (scaled)\n",
    "    w_tangency = optimal_weights / np.sum(optimal_weights)\n",
    "\n",
    "    # Formatting the output weights to 6 decimal places\n",
    "    w_mvp_shortsaleConstrained = [format(num, '.6f') for num in optimal_weights]\n",
    "    w_tangency_formatted = [format(num, '.6f') for num in w_tangency]\n",
    "\n",
    "    return w_mvp_shortsaleConstrained, w_riskFree, w_tangency_formatted"
   ]
  },
  {
   "cell_type": "code",
   "execution_count": 25,
   "id": "1f344f92",
   "metadata": {},
   "outputs": [
    {
     "name": "stdout",
     "output_type": "stream",
     "text": [
      "\n",
      "Weights of the tangency portfolio (based on MVP) are: \n",
      "['0.000000', '0.209290', '0.115171', '0.248244', '0.000000', '0.002534', '0.099560', '0.000000', '0.100912', '0.224289']\n"
     ]
    }
   ],
   "source": [
    "w_mvp, w_riskFree, w_tangency = MVP_C(estimation_sample_mean_returns, estimation_sample_cov_matrix, rf, gamma)\n",
    "\n",
    "print(\"\\nWeights of the tangency portfolio (based on MVP) are: \")\n",
    "print(w_tangency)"
   ]
  },
  {
   "cell_type": "code",
   "execution_count": 26,
   "id": "6096d3a2",
   "metadata": {},
   "outputs": [],
   "source": [
    "def GMV_C(cov_matrix, initial_weights=None, bounds=None, constraints=None):\n",
    "    \"\"\"\n",
    "    Optimize the portfolio weights given the covariance matrix and constraints.\n",
    "\n",
    "    Parameters:\n",
    "    - cov_matrix (numpy.ndarray): Covariance matrix of asset returns.\n",
    "    - initial_weights (numpy.ndarray, optional): Initial guess for the weights (defaults to equal weights).\n",
    "    - bounds (tuple, optional): Bounds for each weight (defaults to no upper bound, and lower bound of 0).\n",
    "    - constraints (dict, optional): Constraints for the optimization (defaults to weights sum to 1).\n",
    "\n",
    "    Returns:\n",
    "    - numpy.ndarray: Optimal portfolio weights.\n",
    "    \"\"\"\n",
    "    # Default values for initial guess, bounds, and constraints if not provided\n",
    "    if initial_weights is None:\n",
    "        initial_weights = np.ones(len(cov_matrix)) / len(cov_matrix)\n",
    "    if bounds is None:\n",
    "        bounds = tuple((0, 1) for _ in range(len(cov_matrix)))  # Weight bounds: 0 <= weight <= 1\n",
    "    if constraints is None:\n",
    "        constraints = ({'type': 'eq', 'fun': lambda weights: np.sum(weights) - 1})  # Weights sum to 1\n",
    "\n",
    "    # Define the objective function to minimize (portfolio variance)\n",
    "    def objective(weights, V):\n",
    "        return weights.T @ V @ weights  # Portfolio variance\n",
    "\n",
    "    # Find the optimal weights\n",
    "    result = minimize(objective, initial_weights, args=(cov_matrix,), method='SLSQP', bounds=bounds, constraints=constraints)\n",
    "\n",
    "    # Check if the optimization was successful and return the optimal weights\n",
    "    if result.success:\n",
    "        return result.x\n",
    "    else:\n",
    "        raise ValueError(\"Optimization failed: \" + result.message)"
   ]
  },
  {
   "cell_type": "code",
   "execution_count": 27,
   "id": "e6bb4ce7",
   "metadata": {},
   "outputs": [
    {
     "name": "stdout",
     "output_type": "stream",
     "text": [
      "GMV-C Optimal Weights:\n",
      "0.000000\n",
      "0.307745\n",
      "0.031412\n",
      "0.063760\n",
      "0.079486\n",
      "0.007760\n",
      "0.125798\n",
      "0.000000\n",
      "0.092293\n",
      "0.291746\n"
     ]
    }
   ],
   "source": [
    "optimal_weights = GMV_C(estimation_sample_cov_matrix)\n",
    "print(\"GMV-C Optimal Weights:\")\n",
    "for weight in optimal_weights:\n",
    "    print(f\"{weight:.6f}\")"
   ]
  },
  {
   "cell_type": "markdown",
   "id": "e5ad146b",
   "metadata": {},
   "source": [
    "### Question 2.2"
   ]
  },
  {
   "cell_type": "code",
   "execution_count": 28,
   "id": "54125675",
   "metadata": {},
   "outputs": [],
   "source": [
    "mvp_weights = []\n",
    "gmv_weights = []\n",
    "\n",
    "for i in range(t_est, nb_months):\n",
    "    # Define the rolling window estimation sample\n",
    "    estimation_sample_rolling = monthly_returns.iloc[i - t_est:i]\n",
    "    \n",
    "    # Calculate mean returns and covariance matrix for the rolling window\n",
    "    estimation_sample_rolling_mean_returns = estimation_sample_rolling.mean()\n",
    "    estimation_sample_rolling_cov_matrix = estimation_sample_rolling.cov()\n",
    "    \n",
    "    # Get the MVP weights\n",
    "    mvp_weight = MVP_C(estimation_sample_rolling_mean_returns, estimation_sample_rolling_cov_matrix, 0, 5)[2]\n",
    "    \n",
    "    # Get the GMV weights and flatten them \n",
    "    gmv_weight = GMV_C(estimation_sample_rolling_cov_matrix)\n",
    "    gmv_weight_flat = gmv_weight.flatten()  # Flatten to ensure it's 1D\n",
    "    \n",
    "    # Append the weights to the respective lists\n",
    "    mvp_weights.append(mvp_weight)\n",
    "    gmv_weights.append(gmv_weight_flat)\n",
    "\n",
    "# Create DataFrames with the weights and dates\n",
    "dates = monthly_returns.index[t_est:]\n",
    "mvp_weights_df = pd.DataFrame(mvp_weights, index=dates, columns=estimation_sample.columns)\n",
    "gmv_weights_df = pd.DataFrame(gmv_weights, index=dates, columns=estimation_sample.columns)"
   ]
  },
  {
   "cell_type": "code",
   "execution_count": 29,
   "id": "d6bb099a",
   "metadata": {},
   "outputs": [
    {
     "name": "stdout",
     "output_type": "stream",
     "text": [
      "MVP-C Weights (based on 60 Months Rolling Window):\n",
      "Ticker                            A       ABT      ADBE       ADM       ADP  \\\n",
      "Date                                                                          \n",
      "2005-02-28 00:00:00+00:00  0.000000  0.209290  0.115171  0.248244  0.000000   \n",
      "2005-03-31 00:00:00+00:00  0.000000  0.229756  0.005337  0.216439  0.000000   \n",
      "2005-04-30 00:00:00+00:00  0.000000  0.227789  0.017044  0.236353  0.000000   \n",
      "2005-05-31 00:00:00+00:00  0.000000  0.269321  0.000000  0.136901  0.000000   \n",
      "2005-06-30 00:00:00+00:00  0.000000  0.248835  0.000000  0.125186  0.000000   \n",
      "\n",
      "Ticker                          AES       AFL      AKAM       AOS       MMM  \n",
      "Date                                                                         \n",
      "2005-02-28 00:00:00+00:00  0.002534  0.099560  0.000000  0.100912  0.224289  \n",
      "2005-03-31 00:00:00+00:00  0.018906  0.159831  0.000000  0.105468  0.264265  \n",
      "2005-04-30 00:00:00+00:00  0.023495  0.069989  0.000000  0.117391  0.307938  \n",
      "2005-05-31 00:00:00+00:00  0.018547  0.182005  0.000000  0.119750  0.273475  \n",
      "2005-06-30 00:00:00+00:00  0.016438  0.171293  0.000000  0.138419  0.299829  \n",
      "\n",
      "GMV-C Weights (based on 60 Months Rolling Window):\n",
      "Ticker                                A       ABT          ADBE       ADM  \\\n",
      "Date                                                                        \n",
      "2005-02-28 00:00:00+00:00  1.170367e-18  0.307745  3.141185e-02  0.063760   \n",
      "2005-03-31 00:00:00+00:00  4.388542e-18  0.293695  2.548475e-17  0.064032   \n",
      "2005-04-30 00:00:00+00:00  1.097135e-18  0.278878  8.621049e-18  0.062535   \n",
      "2005-05-31 00:00:00+00:00  3.839974e-18  0.288140  0.000000e+00  0.033794   \n",
      "2005-06-30 00:00:00+00:00  3.291406e-18  0.287362  1.359591e-17  0.049125   \n",
      "\n",
      "Ticker                          ADP           AES       AFL          AKAM  \\\n",
      "Date                                                                        \n",
      "2005-02-28 00:00:00+00:00  0.079486  7.759950e-03  0.125798  0.000000e+00   \n",
      "2005-03-31 00:00:00+00:00  0.102614  8.069646e-03  0.152655  1.054361e-18   \n",
      "2005-04-30 00:00:00+00:00  0.114795  5.886529e-04  0.199727  0.000000e+00   \n",
      "2005-05-31 00:00:00+00:00  0.131156  3.974656e-18  0.221183  0.000000e+00   \n",
      "2005-06-30 00:00:00+00:00  0.130858  1.787616e-18  0.220614  0.000000e+00   \n",
      "\n",
      "Ticker                          AOS       MMM  \n",
      "Date                                           \n",
      "2005-02-28 00:00:00+00:00  0.092293  0.291746  \n",
      "2005-03-31 00:00:00+00:00  0.093268  0.285667  \n",
      "2005-04-30 00:00:00+00:00  0.091924  0.251552  \n",
      "2005-05-31 00:00:00+00:00  0.108891  0.216836  \n",
      "2005-06-30 00:00:00+00:00  0.103213  0.208827  \n"
     ]
    }
   ],
   "source": [
    "print(\"MVP-C Weights (based on 60 Months Rolling Window):\")\n",
    "print(mvp_weights_df.head())\n",
    "print(\"\\nGMV-C Weights (based on 60 Months Rolling Window):\")\n",
    "print(gmv_weights_df.head())"
   ]
  },
  {
   "cell_type": "markdown",
   "id": "a8d78a73",
   "metadata": {},
   "source": [
    "### Question 2.3"
   ]
  },
  {
   "cell_type": "code",
   "execution_count": 30,
   "id": "96bd1c3b",
   "metadata": {},
   "outputs": [],
   "source": [
    "mvp_returns = []\n",
    "gmv_returns = []\n",
    "\n",
    "# Loop through the weights DataFrame, starting from the first index\n",
    "for t in range(0, len(mvp_weights_df)):\n",
    "    # Select the next month's returns\n",
    "    next_month_returns = monthly_returns.iloc[t + t_est].astype(float)\n",
    "    \n",
    "    # Convert both DataFrame rows to numpy arrays of floats for np.dot compatibility\n",
    "    mvp_weight_array = mvp_weights_df.iloc[t].astype(float).values\n",
    "    gmv_weight_array = gmv_weights_df.iloc[t].astype(float).values\n",
    "\n",
    "    # Calculate portfolio returns\n",
    "    mvp_return = np.dot(mvp_weight_array, next_month_returns.values)\n",
    "    gmv_return = np.dot(gmv_weight_array, next_month_returns.values)\n",
    "    \n",
    "    # Append the calculated returns to the lists\n",
    "    mvp_returns.append(mvp_return)\n",
    "    gmv_returns.append(gmv_return)\n",
    "\n",
    "# Adjust out-of-sample dates to align with the returns computation\n",
    "out_of_sample_dates = monthly_returns.index[t_est:]\n",
    "mvp_returns_df = pd.DataFrame(mvp_returns, index=out_of_sample_dates, columns=['MVP_Return'])\n",
    "gmv_returns_df = pd.DataFrame(gmv_returns, index=out_of_sample_dates, columns=['GMV_Return'])"
   ]
  },
  {
   "cell_type": "code",
   "execution_count": 31,
   "id": "943b0b1c",
   "metadata": {},
   "outputs": [
    {
     "name": "stdout",
     "output_type": "stream",
     "text": [
      "Out-of-Sample Returns for MVP:\n",
      "                           MVP_Return\n",
      "Date                                 \n",
      "2005-02-28 00:00:00+00:00    0.008853\n",
      "2005-03-31 00:00:00+00:00    0.018963\n",
      "2005-04-30 00:00:00+00:00   -0.079567\n",
      "2005-05-31 00:00:00+00:00    0.027102\n",
      "2005-06-30 00:00:00+00:00   -0.015142\n",
      "\n",
      "Out-of-Sample Returns for GMV:\n",
      "                           GMV_Return\n",
      "Date                                 \n",
      "2005-02-28 00:00:00+00:00    0.003562\n",
      "2005-03-31 00:00:00+00:00    0.021150\n",
      "2005-04-30 00:00:00+00:00   -0.013300\n",
      "2005-05-31 00:00:00+00:00    0.017494\n",
      "2005-06-30 00:00:00+00:00   -0.014618\n"
     ]
    }
   ],
   "source": [
    "print(\"Out-of-Sample Returns for MVP:\")\n",
    "print(mvp_returns_df.head())\n",
    "print(\"\\nOut-of-Sample Returns for GMV:\")\n",
    "print(gmv_returns_df.head())"
   ]
  },
  {
   "cell_type": "code",
   "execution_count": 32,
   "id": "ed2c1c98",
   "metadata": {},
   "outputs": [
    {
     "data": {
      "image/png": "[encoded data removed]",
      "text/plain": [
       "<Figure size 640x480 with 1 Axes>"
      ]
     },
     "metadata": {},
     "output_type": "display_data"
    }
   ],
   "source": [
    "plt.plot(mvp_returns_df.index, mvp_returns_df, label=\"MVP-C Out-of-Sample Returns\", color=\"blue\")\n",
    "plt.plot(gmv_returns_df.index, gmv_returns_df, label=\"GMV-C Out-of-Sample Returns\", color=\"green\")\n",
    "\n",
    "plt.title(\"Out-of-Sample Returns for MVP-C and GMV-C Portfolios (based on 60 Months Rolling Window Weights)\")\n",
    "plt.xlabel(\"Date\")\n",
    "plt.ylabel(\"Portfolio Return\")\n",
    "plt.legend()\n",
    "plt.grid()\n",
    "plt.show()"
   ]
  },
  {
   "cell_type": "markdown",
   "id": "f1439d77",
   "metadata": {},
   "source": [
    "### Question 2.4"
   ]
  },
  {
   "cell_type": "code",
   "execution_count": 33,
   "id": "3607a621",
   "metadata": {},
   "outputs": [],
   "source": [
    "mvp_c_sharpe_ratio = sharpe_ratio(mvp_returns_df)\n",
    "gmv_c_sharpe_ratio = sharpe_ratio(gmv_returns_df)"
   ]
  },
  {
   "cell_type": "code",
   "execution_count": 34,
   "id": "a118432f",
   "metadata": {},
   "outputs": [
    {
     "name": "stdout",
     "output_type": "stream",
     "text": [
      "Sharpe Ratio for MVP-C: 0.9193728328226161\n",
      "Sharpe Ratio for GMV-C: 0.9108990514002411\n",
      "MVP-C has the higher Sharpe ratio.\n"
     ]
    }
   ],
   "source": [
    "print(\"Sharpe Ratio for MVP-C:\", mvp_c_sharpe_ratio)\n",
    "print(\"Sharpe Ratio for GMV-C:\", gmv_c_sharpe_ratio)\n",
    "\n",
    "if mvp_c_sharpe_ratio > gmv_c_sharpe_ratio:\n",
    "    print(\"MVP-C has the higher Sharpe ratio.\")\n",
    "else:\n",
    "    print(\"GMV-C has the higher Sharpe ratio.\")"
   ]
  },
  {
   "cell_type": "markdown",
   "id": "b92efca5",
   "metadata": {},
   "source": [
    "### Question 2.5"
   ]
  },
  {
   "cell_type": "code",
   "execution_count": 35,
   "id": "9f216cd1",
   "metadata": {},
   "outputs": [
    {
     "name": "stdout",
     "output_type": "stream",
     "text": [
      "Sharpe Ratio for MVP\n",
      "0.6684141008058265\n",
      "Sharpe Ratio for GMV\n",
      "0.8999533326318012\n",
      "Sharpe Ratio for MVP-C\n",
      "0.9193728328226161\n",
      "Sharpe Ratio for GMV-C\n",
      "0.9108990514002411\n"
     ]
    }
   ],
   "source": [
    "print(\"Sharpe Ratio for MVP\")\n",
    "print(mvp_sharpe_ratio)\n",
    "print(\"Sharpe Ratio for GMV\")\n",
    "print(gmv_sharpe_ratio)\n",
    "print(\"Sharpe Ratio for MVP-C\")\n",
    "print(mvp_c_sharpe_ratio)\n",
    "print(\"Sharpe Ratio for GMV-C\")\n",
    "print(gmv_c_sharpe_ratio)"
   ]
  },
  {
   "cell_type": "markdown",
   "id": "75def126",
   "metadata": {},
   "source": [
    "The MVP-C (Mean-Variance Portfolio with constraints) achieves the highest Sharpe ratio at 0.9194, closely followed by the GMV-C at 0.9109. Both constrained portfolios have higher Sharpe ratios than their unconstrained counterparts, indicating that the nonnegativity constraints enhance risk-adjusted performance by reducing exposure to volatile short positions. The similarity in Sharpe ratios between GMV-C and MVP-C suggests that adding constraints improves stability and diversification across both strategies, but the MVP-C slightly outperforms by balancing risk and return more effectively."
   ]
  }
 ],
 "metadata": {
  "kernelspec": {
   "display_name": "Python 3 (ipykernel)",
   "language": "python",
   "name": "python3"
  },
  "language_info": {
   "codemirror_mode": {
    "name": "ipython",
    "version": 3
   },
   "file_extension": ".py",
   "mimetype": "text/x-python",
   "name": "python",
   "nbconvert_exporter": "python",
   "pygments_lexer": "ipython3",
   "version": "3.12.7"
  }
 },
 "nbformat": 4,
 "nbformat_minor": 5
}
